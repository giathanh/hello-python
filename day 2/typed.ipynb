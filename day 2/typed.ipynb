{
 "metadata": {
  "language_info": {
   "codemirror_mode": {
    "name": "ipython",
    "version": 3
   },
   "file_extension": ".py",
   "mimetype": "text/x-python",
   "name": "python",
   "nbconvert_exporter": "python",
   "pygments_lexer": "ipython3",
   "version": 3
  },
  "orig_nbformat": 2
 },
 "nbformat": 4,
 "nbformat_minor": 2,
 "cells": [
  {
   "source": [
    "`int()` use to change variable to integer. <br />\n",
    "`float()` use to change variable to float. <br />\n",
    "`str()` use to change variable to string. <br />\n",
    "`chr()` use to change variable to character. <br />\n",
    "`ord()` returns an integer representing the Unicode character."
   ],
   "cell_type": "markdown",
   "metadata": {}
  }
 ]
}